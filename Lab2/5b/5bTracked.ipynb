{
 "cells": [
  {
   "cell_type": "markdown",
   "metadata": {},
   "source": [
    "## Load model"
   ]
  },
  {
   "cell_type": "code",
   "execution_count": 387,
   "metadata": {},
   "outputs": [
    {
     "name": "stdout",
     "output_type": "stream",
     "text": [
      "119\n",
      "174\n",
      "Name: \n",
      "Type: Graph\n",
      "Number of nodes: 119\n",
      "Number of edges: 174\n",
      "Average degree:   2.9244\n"
     ]
    }
   ],
   "source": [
    "# Code and CSV files from: https://programminghistorian.org/en/lessons/exploring-and-analyzing-network-data-with-python\n",
    "import csv\n",
    "from operator import itemgetter\n",
    "import networkx as nx\n",
    "from networkx.algorithms import community\n",
    "\n",
    "# Read in the nodelist file\n",
    "with open('quakers_nodelist.csv', 'r') as nodecsv:\n",
    "    nodereader = csv.reader(nodecsv)\n",
    "    nodes = [n for n in nodereader][1:]\n",
    "\n",
    "# Get a list of just the node names (the first item in each row)\n",
    "node_names = [n[0] for n in nodes]\n",
    "\n",
    "# Read in the edgelist file\n",
    "with open('quakers_edgelist.csv', 'r') as edgecsv:\n",
    "    edgereader = csv.reader(edgecsv)\n",
    "    edges = [tuple(e) for e in edgereader][1:]\n",
    "\n",
    "# Print the number of nodes and edges in our two lists\n",
    "print(len(node_names))\n",
    "print(len(edges))\n",
    "\n",
    "G = nx.Graph() # Initialize a Graph object\n",
    "G.add_nodes_from(node_names) # Add nodes to the Graph\n",
    "G.add_edges_from(edges) # Add edges to the Graph\n",
    "print(nx.info(G)) # Print information about the Graph"
   ]
  },
  {
   "cell_type": "markdown",
   "metadata": {},
   "source": [
    "## 1: Erdös-Renyi as a null model"
   ]
  },
  {
   "cell_type": "code",
   "execution_count": 388,
   "metadata": {},
   "outputs": [],
   "source": [
    "# N choose K function\n",
    "import math\n",
    "def nCr(n,r):\n",
    "    f = math.factorial\n",
    "    return f(n) / f(r) / f(n-r)"
   ]
  },
  {
   "cell_type": "code",
   "execution_count": 389,
   "metadata": {},
   "outputs": [
    {
     "name": "stdout",
     "output_type": "stream",
     "text": [
      "174\n",
      "169\n"
     ]
    }
   ],
   "source": [
    "\n",
    "# Fetch number of nodes from original network\n",
    "numberOfNodes = G.number_of_nodes()\n",
    "expectedNumberOfEdges = G.number_of_edges()\n",
    "print(expectedNumberOfEdges)\n",
    "\n",
    "\n",
    "# Calculate p to get the right expected number of edges for  Erdös-Renyi model\n",
    "p = expectedNumberOfEdges/(nCr(numberOfNodes,2))\n",
    "\n",
    "# Create Erdös-Renyi model\n",
    "erdos = nx.erdos_renyi_graph(numberOfNodes,p)\n",
    "print(erdos.number_of_edges())"
   ]
  },
  {
   "cell_type": "code",
   "execution_count": 390,
   "metadata": {},
   "outputs": [
    {
     "name": "stdout",
     "output_type": "stream",
     "text": [
      "0.6021601268331347\n"
     ]
    }
   ],
   "source": [
    "# Find communities of G using Clauset-Newman-Moore greedy modularity maximization\n",
    "from networkx.algorithms.community import greedy_modularity_communities\n",
    "communities = greedy_modularity_communities(G)\n",
    "\n",
    "\n",
    "# Calculate max modularity for G \n",
    "import networkx.algorithms.community as nx_comm\n",
    "maxModularity = nx_comm.modularity(G, communities)\n",
    "print(maxModularity)"
   ]
  },
  {
   "cell_type": "code",
   "execution_count": 391,
   "metadata": {},
   "outputs": [],
   "source": [
    "# Calculate max modularity for Erdös-Renyi model over 100 simulations\n",
    "\n",
    "# Fetch number of nodes from original network\n",
    "numberOfNodes = G.number_of_nodes()\n",
    "expectedNumberOfEdges = G.number_of_edges()\n",
    "\n",
    "# Calculate p to get the right expected number of edges for Erdös-Renyi model\n",
    "p = expectedNumberOfEdges/(nCr(numberOfNodes,2))\n",
    "\n",
    "maxModularityList = []\n",
    "for i in range(100):\n",
    "\n",
    "    # Create Erdös-Renyi model using Clauset-Newman-Moore greedy modularity maximization\n",
    "    erdos = nx.erdos_renyi_graph(numberOfNodes,p)\n",
    "\n",
    "    # Find communities of Erdös-Renyi model\n",
    "    communities = greedy_modularity_communities(erdos)\n",
    "\n",
    "    # Calculate max modularity and add to maxModularityList\n",
    "    maxModularityList.append(nx_comm.modularity(erdos, communities))\n"
   ]
  },
  {
   "cell_type": "code",
   "execution_count": 392,
   "metadata": {},
   "outputs": [
    {
     "data": {
      "image/png": "[encoded data removed]",
      "text/plain": [
       "<Figure size 432x288 with 1 Axes>"
      ]
     },
     "metadata": {
      "needs_background": "light"
     },
     "output_type": "display_data"
    }
   ],
   "source": [
    "# Plot the result\n",
    "figure, ax = plt.subplots()\n",
    "ax.set_title('Max modularity analysis')\n",
    "ax.plot(1,maxModularity, 'ro')\n",
    "ax.boxplot(maxModularityList)\n",
    "plt.show()\n"
   ]
  },
  {
   "cell_type": "code",
   "execution_count": 393,
   "metadata": {},
   "outputs": [
    {
     "name": "stdout",
     "output_type": "stream",
     "text": [
      "The max modularity for the real network is the 14 largest value when comparing to 100 simulations of the Erdös-Renyi model\n",
      "The real network had a larger max modularity than 87.0% of the Erdös-Renyi models\n"
     ]
    }
   ],
   "source": [
    "elementsLarger = [element for element in maxModularityList if element > maxModularity]\n",
    "precentLargerThan = len(elementsLarger)/len(maxModularityList)\n",
    "print(f'The max modularity for the real network is the {len(elementsLarger)+1} largest value when comparing to 100 simulations of the Erdös-Renyi model')\n",
    "print(f'The real network had a larger max modularity than {(1-precentLargerThan)*100}% of the Erdös-Renyi models')"
   ]
  },
  {
   "cell_type": "markdown",
   "metadata": {},
   "source": [
    "## 2: Configuration Model as a null model"
   ]
  },
  {
   "cell_type": "code",
   "execution_count": 394,
   "metadata": {},
   "outputs": [],
   "source": [
    "# Get the degree sequence of the network\n",
    "degreeSequence = []\n",
    "for n, d in G.degree():\n",
    "    degreeSequence.append(d)\n"
   ]
  },
  {
   "cell_type": "code",
   "execution_count": 395,
   "metadata": {},
   "outputs": [],
   "source": [
    "# Calculate max modularity for Configuration model over 100 simulations\n",
    "\n",
    "maxModularityList = []\n",
    "for i in range(100):\n",
    "\n",
    "    # Create configuration model from the degree sequence\n",
    "    configurationModel = nx.configuration_model(degreeSequence)\n",
    "\n",
    "    # Go from MultiGraph to Graph (Remove parallel edges)\n",
    "    configurationModel = nx.Graph(configurationModel)\n",
    "\n",
    "    # Find communities of Configuration model\n",
    "    communities = greedy_modularity_communities(configurationModel)\n",
    "\n",
    "    # Calculate max modularity and add to maxModularityList\n",
    "    maxModularityList.append(nx_comm.modularity(configurationModel, communities))\n",
    "\n"
   ]
  },
  {
   "cell_type": "code",
   "execution_count": 396,
   "metadata": {},
   "outputs": [
    {
     "data": {
      "image/png": "[encoded data removed]",
      "text/plain": [
       "<Figure size 432x288 with 1 Axes>"
      ]
     },
     "metadata": {
      "needs_background": "light"
     },
     "output_type": "display_data"
    }
   ],
   "source": [
    "# Plot the result\n",
    "figure, ax = plt.subplots()\n",
    "ax.set_title('Max modularity analysis')\n",
    "ax.plot(1,maxModularity, 'ro')\n",
    "ax.boxplot(maxModularityList)\n",
    "plt.show()"
   ]
  },
  {
   "cell_type": "code",
   "execution_count": 397,
   "metadata": {},
   "outputs": [
    {
     "name": "stdout",
     "output_type": "stream",
     "text": [
      "The max modularity for the real network is the 31 largest value when comparing to 100 simulations of the Configuration model\n",
      "The real network had a larger max modularity than 70.0% of the Configuration models\n"
     ]
    }
   ],
   "source": [
    "elementsLarger = [element for element in maxModularityList if element > maxModularity]\n",
    "precentLargerThan = len(elementsLarger)/len(maxModularityList)\n",
    "print(f'The max modularity for the real network is the {len(elementsLarger)+1} largest value when comparing to 100 simulations of the Configuration model')\n",
    "print(f'The real network had a larger max modularity than {(1-precentLargerThan)*100}% of the Configuration models')"
   ]
  },
  {
   "cell_type": "code",
   "execution_count": null,
   "metadata": {},
   "outputs": [],
   "source": []
  }
 ],
 "metadata": {
  "interpreter": {
   "hash": "5637242735df105300a10f363d5c0d18b4b77d7105ef62addc8c3980e22cd89c"
  },
  "kernelspec": {
   "display_name": "Python 3.8.8 ('base')",
   "language": "python",
   "name": "python3"
  },
  "language_info": {
   "codemirror_mode": {
    "name": "ipython",
    "version": 3
   },
   "file_extension": ".py",
   "mimetype": "text/x-python",
   "name": "python",
   "nbconvert_exporter": "python",
   "pygments_lexer": "ipython3",
   "version": "3.8.8"
  },
  "orig_nbformat": 4
 },
 "nbformat": 4,
 "nbformat_minor": 2
}
