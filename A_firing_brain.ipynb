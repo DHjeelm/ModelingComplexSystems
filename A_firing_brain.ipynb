{
 "cells": [
  {
   "cell_type": "code",
   "execution_count": 141,
   "metadata": {},
   "outputs": [],
   "source": [
    "import matplotlib.pyplot as plt\n",
    "import numpy as np\n",
    "from random import random\n",
    "\n",
    "word_map = {\"firing\": 0, \"ready\": 1, \"resting\": 2}\n",
    "\n",
    "N = 4\n",
    "\n",
    "\n"
   ]
  },
  {
   "cell_type": "code",
   "execution_count": 142,
   "metadata": {},
   "outputs": [],
   "source": [
    "def initialize_brain(N: int):\n",
    "    world =[[\"\" for i in range(N)] for j in range(N)]\n",
    "    for i in range(N):\n",
    "        for j in range(N):\n",
    "            if random() <= .3:\n",
    "                world[i][j] = word_map[\"firing\"]\n",
    "            else:\n",
    "                world[i][j] = word_map[\"ready\"]\n",
    "    return world\n",
    "\n"
   ]
  },
  {
   "cell_type": "code",
   "execution_count": 143,
   "metadata": {},
   "outputs": [],
   "source": [
    "world = initialize_brain(N)"
   ]
  },
  {
   "cell_type": "code",
   "execution_count": 144,
   "metadata": {},
   "outputs": [
    {
     "name": "stdout",
     "output_type": "stream",
     "text": [
      "[1, 1, 1, 1]\n"
     ]
    }
   ],
   "source": [
    "print(world[0])"
   ]
  },
  {
   "cell_type": "code",
   "execution_count": 145,
   "metadata": {},
   "outputs": [],
   "source": [
    "from matplotlib.colors import ListedColormap\n",
    "cmap = ListedColormap([\"red\", \"green\", \"white\"])\n",
    "\n",
    "def showWorld(world):\n",
    "\n",
    "    plt.imshow(world,vmin=0, vmax=len(cmap.colors), cmap=cmap)\n",
    "    plt.show()"
   ]
  },
  {
   "cell_type": "code",
   "execution_count": 146,
   "metadata": {},
   "outputs": [
    {
     "data": {
      "image/png": "[encoded data removed]",
      "text/plain": [
       "<Figure size 432x288 with 1 Axes>"
      ]
     },
     "metadata": {
      "needs_background": "light"
     },
     "output_type": "display_data"
    }
   ],
   "source": [
    "# Plot initial condition\n",
    "showWorld(world)\n",
    "\n"
   ]
  },
  {
   "cell_type": "code",
   "execution_count": 148,
   "metadata": {},
   "outputs": [],
   "source": [
    "def updateWorld(world):\n",
    "\n",
    "    nextTimeStepWorld = world.copy()\n",
    "    for i in range(N):\n",
    "        for j in range(N):\n",
    "\n",
    "            # Rule (a)\n",
    "            if (world[i][j] == word_map[\"ready\"]):\n",
    "                print(f\"i: {i}, j:{j}\")\n",
    "                numFiringClose = 0\n",
    "                for k in range(-1, 1):\n",
    "                    for h in range(-1, 1):\n",
    "                        if (k == 0 and h == 0):\n",
    "                            continue\n",
    "                        print(f\"k: {k}, h:{h}\")\n",
    "                        print( f\"state at index {world[i + k][j+h]}\")\n",
    "                        if world[i + k][j+h] == word_map[\"firing\"]:\n",
    "                            numFiringClose += 1\n",
    "                print(numFiringClose)\n",
    "                if numFiringClose == 2:\n",
    "                    print(\"Firing next time step\")\n",
    "                    nextTimeStepWorld[i][j] =word_map[\"firing\"]\n",
    "                    \n",
    "            # Rule (b)\n",
    "            elif (world[i][j] == word_map[\"firing\"]):\n",
    "                print(\"Resting next time step\")\n",
    "                nextTimeStepWorld[i][j] = word_map[\"resting\"]\n",
    "\n",
    "            # Rule (c)\n",
    "            else:\n",
    "                print(\"ready next time step\")\n",
    "                nextTimeStepWorld[i][j] = word_map[\"ready\"]\n",
    "    return nextTimeStepWorld\n",
    "\n",
    "                    \n",
    "            \n",
    "\n",
    "                \n",
    "\n"
   ]
  },
  {
   "cell_type": "code",
   "execution_count": 149,
   "metadata": {},
   "outputs": [
    {
     "name": "stdout",
     "output_type": "stream",
     "text": [
      "i: 0, j:0\n",
      "k: -1, h:-1\n",
      "state at index 1\n",
      "k: -1, h:0\n",
      "state at index 1\n",
      "k: 0, h:-1\n",
      "state at index 1\n",
      "0\n",
      "i: 0, j:1\n",
      "k: -1, h:-1\n",
      "state at index 1\n",
      "k: -1, h:0\n",
      "state at index 0\n",
      "k: 0, h:-1\n",
      "state at index 1\n",
      "1\n",
      "i: 0, j:2\n",
      "k: -1, h:-1\n",
      "state at index 0\n",
      "k: -1, h:0\n",
      "state at index 1\n",
      "k: 0, h:-1\n",
      "state at index 1\n",
      "1\n",
      "i: 0, j:3\n",
      "k: -1, h:-1\n",
      "state at index 1\n",
      "k: -1, h:0\n",
      "state at index 1\n",
      "k: 0, h:-1\n",
      "state at index 1\n",
      "0\n",
      "i: 1, j:0\n",
      "k: -1, h:-1\n",
      "state at index 1\n",
      "k: -1, h:0\n",
      "state at index 1\n",
      "k: 0, h:-1\n",
      "state at index 0\n",
      "1\n",
      "i: 1, j:1\n",
      "k: -1, h:-1\n",
      "state at index 1\n",
      "k: -1, h:0\n",
      "state at index 1\n",
      "k: 0, h:-1\n",
      "state at index 1\n",
      "0\n",
      "i: 1, j:2\n",
      "k: -1, h:-1\n",
      "state at index 1\n",
      "k: -1, h:0\n",
      "state at index 1\n",
      "k: 0, h:-1\n",
      "state at index 1\n",
      "0\n",
      "Resting next time step\n",
      "i: 2, j:0\n",
      "k: -1, h:-1\n",
      "state at index 2\n",
      "k: -1, h:0\n",
      "state at index 1\n",
      "k: 0, h:-1\n",
      "state at index 1\n",
      "0\n",
      "Resting next time step\n",
      "i: 2, j:2\n",
      "k: -1, h:-1\n",
      "state at index 1\n",
      "k: -1, h:0\n",
      "state at index 1\n",
      "k: 0, h:-1\n",
      "state at index 2\n",
      "0\n",
      "i: 2, j:3\n",
      "k: -1, h:-1\n",
      "state at index 1\n",
      "k: -1, h:0\n",
      "state at index 2\n",
      "k: 0, h:-1\n",
      "state at index 1\n",
      "0\n",
      "i: 3, j:0\n",
      "k: -1, h:-1\n",
      "state at index 1\n",
      "k: -1, h:0\n",
      "state at index 1\n",
      "k: 0, h:-1\n",
      "state at index 1\n",
      "0\n",
      "Resting next time step\n",
      "i: 3, j:2\n",
      "k: -1, h:-1\n",
      "state at index 2\n",
      "k: -1, h:0\n",
      "state at index 1\n",
      "k: 0, h:-1\n",
      "state at index 2\n",
      "0\n",
      "i: 3, j:3\n",
      "k: -1, h:-1\n",
      "state at index 1\n",
      "k: -1, h:0\n",
      "state at index 1\n",
      "k: 0, h:-1\n",
      "state at index 1\n",
      "0\n"
     ]
    },
    {
     "data": {
      "image/png": "[encoded data removed]",
      "text/plain": [
       "<Figure size 432x288 with 1 Axes>"
      ]
     },
     "metadata": {
      "needs_background": "light"
     },
     "output_type": "display_data"
    }
   ],
   "source": [
    "plotTimes = [10, 20, 100, 1000]\n",
    "\n",
    "for i in range(plotTimes[-1]):\n",
    "    updateWorld(world)\n",
    "    showWorld(world)\n",
    "    break\n",
    "\n",
    "    if i + 1 in plotTimes:\n",
    "        plt.figure\n",
    "        plt.title(f\"Time step {i + 1}\")\n",
    "        plt.imshow(world,vmin=0, vmax=len(cmap.colors), cmap=cmap)\n",
    "        plt.show()\n",
    "        \n",
    "\n",
    "    \n",
    "\n"
   ]
  },
  {
   "cell_type": "code",
   "execution_count": 99,
   "metadata": {},
   "outputs": [
    {
     "name": "stdout",
     "output_type": "stream",
     "text": [
      "[1, 1, 1, 1]\n"
     ]
    }
   ],
   "source": [
    "print(world[0])"
   ]
  },
  {
   "cell_type": "code",
   "execution_count": null,
   "metadata": {},
   "outputs": [],
   "source": []
  }
 ],
 "metadata": {
  "interpreter": {
   "hash": "082e9a3bcad0a290d0001e938aa60b99250c6c2ef33a923c00b70f9826caf4b7"
  },
  "kernelspec": {
   "display_name": "Python 3.8.3 64-bit",
   "language": "python",
   "name": "python3"
  },
  "language_info": {
   "codemirror_mode": {
    "name": "ipython",
    "version": 3
   },
   "file_extension": ".py",
   "mimetype": "text/x-python",
   "name": "python",
   "nbconvert_exporter": "python",
   "pygments_lexer": "ipython3",
   "version": "3.8.3"
  },
  "orig_nbformat": 4
 },
 "nbformat": 4,
 "nbformat_minor": 2
}
